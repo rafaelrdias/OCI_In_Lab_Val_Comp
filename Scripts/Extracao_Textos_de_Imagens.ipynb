{
 "cells": [
  {
   "cell_type": "code",
   "execution_count": null,
   "id": "8805e4d0",
   "metadata": {},
   "outputs": [],
   "source": [
    "!pip install -U oci"
   ]
  },
  {
   "cell_type": "code",
   "execution_count": 11,
   "id": "01e9091b",
   "metadata": {},
   "outputs": [],
   "source": [
    "import requests\n",
    "import pandas as pd\n",
    "import re\n",
    "import oci\n",
    "import io\n",
    "import ocifs\n",
    "import os\n",
    "import base64\n",
    "import numpy as np \n",
    "\n",
    "from PIL import Image\n",
    "from ads.dataset.factory import DatasetFactory\n",
    "from ads.common.auth import default_signer\n"
   ]
  },
  {
   "cell_type": "code",
   "execution_count": 2,
   "id": "d3c06083",
   "metadata": {},
   "outputs": [],
   "source": [
    "config = oci.config.from_file('~/.oci/config')\n",
    "object_storage_client = oci.object_storage.ObjectStorageClient(config)"
   ]
  },
  {
   "cell_type": "code",
   "execution_count": 3,
   "id": "b1f94fa9",
   "metadata": {},
   "outputs": [],
   "source": [
    "ai_vision_client = oci.ai_vision.AIServiceVisionClient(config=config)"
   ]
  },
  {
   "cell_type": "code",
   "execution_count": 4,
   "id": "78cac726",
   "metadata": {},
   "outputs": [],
   "source": [
    "fs = ocifs.OCIFileSystem(config=\"~/.oci/config\")\n",
    "\n",
    "img_list = fs.glob(\"oci://<nome-do-bucket>@<namespace>/*\")"
   ]
  },
  {
   "cell_type": "code",
   "execution_count": 32,
   "id": "fd3ff36c",
   "metadata": {},
   "outputs": [],
   "source": [
    "name_list = []\n",
    "for i, item in enumerate(img_list):\n",
    "    name = item.rsplit('/', 1)[1]\n",
    "    name_list.append(name)\n",
    "    \n",
    "code_list = []\n",
    "for i in range(0, len(img_list)):\n",
    "    codigo = img_list[i]\n",
    "    s = [float(s) for s in re.findall(r'-?\\d+\\.?\\d*', codigo)]\n",
    "    code_list.append(int(s[1]))"
   ]
  },
  {
   "cell_type": "code",
   "execution_count": null,
   "id": "8f01a613",
   "metadata": {},
   "outputs": [],
   "source": [
    "for i, file in enumerate(img_list):\n",
    "    with fs.open(file) as f:\n",
    "            content = f.read()\n",
    "            \n",
    "            encoded_string = base64.b64encode(content, altchars=None)\n",
    "            decoded_string = encoded_string.decode(\"utf-8\", \"ignore\")\n",
    "\n",
    "            analyze_document_response = ai_vision_client.analyze_document(\n",
    "                    analyze_document_details=oci.ai_vision.models.AnalyzeDocumentDetails(\n",
    "                    compartment_id = \"ocid1.compartment.oc1..aaaaaaaaxxxxxxxxxxxxxxxxxx5xxxxxxxxxxxxxxxxx6xxxxxxxx\",\n",
    "                    features=[\n",
    "                        oci.ai_vision.models.DocumentTextDetectionFeature(\n",
    "                            feature_type=\"TEXT_DETECTION\")],\n",
    "                    language='ENG',\n",
    "                    document=oci.ai_vision.models.InlineDocumentDetails(\n",
    "                    source=\"INLINE\",\n",
    "                    data=decoded_string)))\n",
    "\n",
    "            words = str([word.text for page in analyze_document_response.data.pages for word in page.words])\n",
    "            name = f\"{name_list[i]}.txt\"  \n",
    "            \n",
    "            words_str_1 = words.replace(\"',\",'')\n",
    "            words_str_2 = words_str_1.replace(\"'\",'')\n",
    "            words_str_3 = words_str_2.replace(\"[\",'')\n",
    "            words_str_4 = words_str_3.replace(\"]\",'')\n",
    "            \n",
    "            put_object_response = object_storage_client.put_object(\n",
    "                                        namespace_name='<namespace>',\n",
    "                                        bucket_name='<nome-do-bucket>',\n",
    "                                        object_name=name,\n",
    "                                        put_object_body = words_str_4,\n",
    "                                        content_type=\"text/plain\")\n",
    "\n",
    "            print(\"Documento\", name, \"upado!\")"
   ]
  }
 ],
 "metadata": {
  "kernelspec": {
   "display_name": "Python 3.10.4 64-bit",
   "language": "python",
   "name": "python3"
  },
  "language_info": {
   "codemirror_mode": {
    "name": "ipython",
    "version": 3
   },
   "file_extension": ".py",
   "mimetype": "text/x-python",
   "name": "python",
   "nbconvert_exporter": "python",
   "pygments_lexer": "ipython3",
   "version": "3.10.4"
  },
  "vscode": {
   "interpreter": {
    "hash": "5ebd056596f5ef443ef87bfc3bb84c357077c691314f20cc5ff5dce840020788"
   }
  }
 },
 "nbformat": 4,
 "nbformat_minor": 5
}
